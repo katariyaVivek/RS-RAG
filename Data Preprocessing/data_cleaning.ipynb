{
 "cells": [
  {
   "cell_type": "code",
   "execution_count": 1,
   "metadata": {},
   "outputs": [],
   "source": [
    "import pandas as pd\n",
    "import numpy as np\n",
    "import re,uuid"
   ]
  },
  {
   "cell_type": "code",
   "execution_count": 4,
   "metadata": {},
   "outputs": [
    {
     "name": "stdout",
     "output_type": "stream",
     "text": [
      "<class 'pandas.core.frame.DataFrame'>\n",
      "RangeIndex: 2277 entries, 0 to 2276\n",
      "Data columns (total 2 columns):\n",
      " #   Column           Non-Null Count  Dtype \n",
      "---  ------           --------------  ----- \n",
      " 0   Job Title        2277 non-null   object\n",
      " 1   Job Description  2277 non-null   object\n",
      "dtypes: object(2)\n",
      "memory usage: 35.7+ KB\n"
     ]
    }
   ],
   "source": [
    "df = pd.read_csv('../data/job_title_des.csv')\n",
    "df.info()"
   ]
  },
  {
   "cell_type": "code",
   "execution_count": 9,
   "metadata": {},
   "outputs": [],
   "source": [
    "#cleaning the job titles and descriptions\n",
    "df = df.drop_duplicates(['Job Description'])\n",
    "df = df.dropna().reset_index(drop=True)\n",
    "df['Job Description'] = df['Job Description'].apply(lambda x: re.sub(r'[^a-zA-Z0-9\\s]', '', re.sub(r'\\t', '', re.sub(r'(\\n|\\r)+', '\\n', re.sub(r' +', ' ', x.strip())))))"
   ]
  },
  {
   "cell_type": "code",
   "execution_count": 10,
   "metadata": {},
   "outputs": [
    {
     "data": {
      "text/html": [
       "<div>\n",
       "<style scoped>\n",
       "    .dataframe tbody tr th:only-of-type {\n",
       "        vertical-align: middle;\n",
       "    }\n",
       "\n",
       "    .dataframe tbody tr th {\n",
       "        vertical-align: top;\n",
       "    }\n",
       "\n",
       "    .dataframe thead th {\n",
       "        text-align: right;\n",
       "    }\n",
       "</style>\n",
       "<table border=\"1\" class=\"dataframe\">\n",
       "  <thead>\n",
       "    <tr style=\"text-align: right;\">\n",
       "      <th></th>\n",
       "      <th>Job Title</th>\n",
       "      <th>Job Description</th>\n",
       "    </tr>\n",
       "  </thead>\n",
       "  <tbody>\n",
       "    <tr>\n",
       "      <th>0</th>\n",
       "      <td>Flutter Developer</td>\n",
       "      <td>We are looking for hire experts flutter develo...</td>\n",
       "    </tr>\n",
       "    <tr>\n",
       "      <th>1</th>\n",
       "      <td>Django Developer</td>\n",
       "      <td>PYTHONDJANGO DeveloperLead Job CodePDJ 04\\nStr...</td>\n",
       "    </tr>\n",
       "    <tr>\n",
       "      <th>2</th>\n",
       "      <td>Machine Learning</td>\n",
       "      <td>Data Scientist Contractor\\nBangalore IN\\nRespo...</td>\n",
       "    </tr>\n",
       "    <tr>\n",
       "      <th>3</th>\n",
       "      <td>iOS Developer</td>\n",
       "      <td>JOB DESCRIPTION\\nStrong framework outside of i...</td>\n",
       "    </tr>\n",
       "    <tr>\n",
       "      <th>4</th>\n",
       "      <td>Full Stack Developer</td>\n",
       "      <td>job responsibility full stack engineer react r...</td>\n",
       "    </tr>\n",
       "    <tr>\n",
       "      <th>...</th>\n",
       "      <td>...</td>\n",
       "      <td>...</td>\n",
       "    </tr>\n",
       "    <tr>\n",
       "      <th>2253</th>\n",
       "      <td>Backend Developer</td>\n",
       "      <td>Job Summary\\nPublished on 26 days ago\\nVacancy...</td>\n",
       "    </tr>\n",
       "    <tr>\n",
       "      <th>2254</th>\n",
       "      <td>Full Stack Developer</td>\n",
       "      <td>business entity cisco umbrella focus cloudbase...</td>\n",
       "    </tr>\n",
       "    <tr>\n",
       "      <th>2255</th>\n",
       "      <td>Network Administrator</td>\n",
       "      <td>Urgently reqd in a college in Mohali\\nNetwork ...</td>\n",
       "    </tr>\n",
       "    <tr>\n",
       "      <th>2256</th>\n",
       "      <td>Machine Learning</td>\n",
       "      <td>Key Responsibilities Team leads for small or m...</td>\n",
       "    </tr>\n",
       "    <tr>\n",
       "      <th>2257</th>\n",
       "      <td>Full Stack Developer</td>\n",
       "      <td>leslie hindman auctioneer one nation s leading...</td>\n",
       "    </tr>\n",
       "  </tbody>\n",
       "</table>\n",
       "<p>2258 rows × 2 columns</p>\n",
       "</div>"
      ],
      "text/plain": [
       "                  Job Title                                    Job Description\n",
       "0         Flutter Developer  We are looking for hire experts flutter develo...\n",
       "1          Django Developer  PYTHONDJANGO DeveloperLead Job CodePDJ 04\\nStr...\n",
       "2          Machine Learning  Data Scientist Contractor\\nBangalore IN\\nRespo...\n",
       "3             iOS Developer  JOB DESCRIPTION\\nStrong framework outside of i...\n",
       "4      Full Stack Developer  job responsibility full stack engineer react r...\n",
       "...                     ...                                                ...\n",
       "2253      Backend Developer  Job Summary\\nPublished on 26 days ago\\nVacancy...\n",
       "2254   Full Stack Developer  business entity cisco umbrella focus cloudbase...\n",
       "2255  Network Administrator  Urgently reqd in a college in Mohali\\nNetwork ...\n",
       "2256       Machine Learning  Key Responsibilities Team leads for small or m...\n",
       "2257   Full Stack Developer  leslie hindman auctioneer one nation s leading...\n",
       "\n",
       "[2258 rows x 2 columns]"
      ]
     },
     "execution_count": 10,
     "metadata": {},
     "output_type": "execute_result"
    }
   ],
   "source": [
    "df"
   ]
  },
  {
   "cell_type": "code",
   "execution_count": 12,
   "metadata": {},
   "outputs": [
    {
     "data": {
      "text/plain": [
       "Job Title             \n",
       "Java Developer            42\n",
       "DevOps Engineer           38\n",
       "Flutter Developer         37\n",
       "Network Administrator     37\n",
       "iOS Developer             37\n",
       "Full Stack Developer      34\n",
       "Wordpress Developer       33\n",
       "Backend Developer         32\n",
       "PHP Developer             32\n",
       "Database Administrator    31\n",
       "JavaScript Developer      31\n",
       "Machine Learning          30\n",
       "Node js developer         30\n",
       "Django Developer          29\n",
       "Software Engineer         27\n",
       "Name: count, dtype: int64"
      ]
     },
     "execution_count": 12,
     "metadata": {},
     "output_type": "execute_result"
    }
   ],
   "source": [
    "#sampling the original dataframe\n",
    "df_sample = df.sample(500, random_state=3)\n",
    "df_sample.value_counts(['Job Title'])"
   ]
  },
  {
   "cell_type": "code",
   "execution_count": 17,
   "metadata": {},
   "outputs": [],
   "source": [
    "df_sample.to_csv('../Data/sampled_job_title_des.csv', index=False)\n",
    "for i, df_checkpoint in enumerate(np.array_split(df_sample, 5)):\n",
    "    df_checkpoint.to_csv(f'../main_data/checkpoints/jd{i+1}.csv',index=False)"
   ]
  },
  {
   "cell_type": "markdown",
   "metadata": {},
   "source": [
    "Resume Indexing"
   ]
  },
  {
   "cell_type": "code",
   "execution_count": 19,
   "metadata": {},
   "outputs": [],
   "source": [
    "df_resume = pd.read_csv('../data/synthetic-resumes.csv')\n",
    "df_resume = df_resume.reset_index(drop=False)"
   ]
  },
  {
   "cell_type": "code",
   "execution_count": 23,
   "metadata": {},
   "outputs": [],
   "source": [
    "df_resumes = df_resume.rename(columns={\"index\": \"ID\"})\n",
    "df_resumes.to_csv(\"../main_data/synthetic-resumes.csv\", index=False)"
   ]
  },
  {
   "cell_type": "code",
   "execution_count": 24,
   "metadata": {},
   "outputs": [
    {
     "data": {
      "text/html": [
       "<div>\n",
       "<style scoped>\n",
       "    .dataframe tbody tr th:only-of-type {\n",
       "        vertical-align: middle;\n",
       "    }\n",
       "\n",
       "    .dataframe tbody tr th {\n",
       "        vertical-align: top;\n",
       "    }\n",
       "\n",
       "    .dataframe thead th {\n",
       "        text-align: right;\n",
       "    }\n",
       "</style>\n",
       "<table border=\"1\" class=\"dataframe\">\n",
       "  <thead>\n",
       "    <tr style=\"text-align: right;\">\n",
       "      <th></th>\n",
       "      <th>ID</th>\n",
       "      <th>ID</th>\n",
       "      <th>Resume</th>\n",
       "    </tr>\n",
       "  </thead>\n",
       "  <tbody>\n",
       "    <tr>\n",
       "      <th>0</th>\n",
       "      <td>0</td>\n",
       "      <td>0</td>\n",
       "      <td>- :\\nAs a recent graduate in Computer Science...</td>\n",
       "    </tr>\n",
       "    <tr>\n",
       "      <th>1</th>\n",
       "      <td>1</td>\n",
       "      <td>1</td>\n",
       "      <td>()\\n\\nName: Jane Smith\\n\\nContact Information...</td>\n",
       "    </tr>\n",
       "    <tr>\n",
       "      <th>2</th>\n",
       "      <td>2</td>\n",
       "      <td>2</td>\n",
       "      <td>: \\n\\nName: Jane Doe\\n\\nAddress: 456 Main St, ...</td>\n",
       "    </tr>\n",
       "    <tr>\n",
       "      <th>3</th>\n",
       "      <td>3</td>\n",
       "      <td>3</td>\n",
       "      <td>: \\n\\nName: Jane Smith\\nLocation: Bangalore, K...</td>\n",
       "    </tr>\n",
       "    <tr>\n",
       "      <th>4</th>\n",
       "      <td>4</td>\n",
       "      <td>4</td>\n",
       "      <td>():\\nName: John Doe\\nContact Information: \\nE...</td>\n",
       "    </tr>\n",
       "    <tr>\n",
       "      <th>...</th>\n",
       "      <td>...</td>\n",
       "      <td>...</td>\n",
       "      <td>...</td>\n",
       "    </tr>\n",
       "    <tr>\n",
       "      <th>995</th>\n",
       "      <td>995</td>\n",
       "      <td>995</td>\n",
       "      <td>:\\n\\nFull Stack Developer\\n\\nAs a passionate d...</td>\n",
       "    </tr>\n",
       "    <tr>\n",
       "      <th>996</th>\n",
       "      <td>996</td>\n",
       "      <td>996</td>\n",
       "      <td>():\\n \\nName: John Doe\\n\\nSummary:\\nAn experi...</td>\n",
       "    </tr>\n",
       "    <tr>\n",
       "      <th>997</th>\n",
       "      <td>997</td>\n",
       "      <td>997</td>\n",
       "      <td>():\\n \\nObjective:\\nTo obtain a PHP Developer...</td>\n",
       "    </tr>\n",
       "    <tr>\n",
       "      <th>998</th>\n",
       "      <td>998</td>\n",
       "      <td>998</td>\n",
       "      <td>():\\nName: John Doe\\nEmail: john.doe@email.co...</td>\n",
       "    </tr>\n",
       "    <tr>\n",
       "      <th>999</th>\n",
       "      <td>999</td>\n",
       "      <td>999</td>\n",
       "      <td>: \\n\\nName: John Doe\\nLocation: Ahmedabad\\nExp...</td>\n",
       "    </tr>\n",
       "  </tbody>\n",
       "</table>\n",
       "<p>1000 rows × 3 columns</p>\n",
       "</div>"
      ],
      "text/plain": [
       "      ID   ID                                             Resume\n",
       "0      0    0   - :\\nAs a recent graduate in Computer Science...\n",
       "1      1    1   ()\\n\\nName: Jane Smith\\n\\nContact Information...\n",
       "2      2    2  : \\n\\nName: Jane Doe\\n\\nAddress: 456 Main St, ...\n",
       "3      3    3  : \\n\\nName: Jane Smith\\nLocation: Bangalore, K...\n",
       "4      4    4   ():\\nName: John Doe\\nContact Information: \\nE...\n",
       "..   ...  ...                                                ...\n",
       "995  995  995  :\\n\\nFull Stack Developer\\n\\nAs a passionate d...\n",
       "996  996  996   ():\\n \\nName: John Doe\\n\\nSummary:\\nAn experi...\n",
       "997  997  997   ():\\n \\nObjective:\\nTo obtain a PHP Developer...\n",
       "998  998  998   ():\\nName: John Doe\\nEmail: john.doe@email.co...\n",
       "999  999  999  : \\n\\nName: John Doe\\nLocation: Ahmedabad\\nExp...\n",
       "\n",
       "[1000 rows x 3 columns]"
      ]
     },
     "execution_count": 24,
     "metadata": {},
     "output_type": "execute_result"
    }
   ],
   "source": [
    "df_resumes"
   ]
  },
  {
   "cell_type": "code",
   "execution_count": null,
   "metadata": {},
   "outputs": [],
   "source": []
  }
 ],
 "metadata": {
  "kernelspec": {
   "display_name": "rsvenv",
   "language": "python",
   "name": "python3"
  },
  "language_info": {
   "codemirror_mode": {
    "name": "ipython",
    "version": 3
   },
   "file_extension": ".py",
   "mimetype": "text/x-python",
   "name": "python",
   "nbconvert_exporter": "python",
   "pygments_lexer": "ipython3",
   "version": "3.11.7"
  }
 },
 "nbformat": 4,
 "nbformat_minor": 2
}
